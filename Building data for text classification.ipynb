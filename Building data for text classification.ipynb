{
 "cells": [
  {
   "cell_type": "code",
   "execution_count": 1,
   "metadata": {},
   "outputs": [],
   "source": [
    "import pandas as pd\n",
    "import numpy as np\n",
    "from bs4 import BeautifulSoup\n",
    "import urllib\n",
    "import re\n",
    "import  warnings\n",
    "from requests import get\n",
    "warnings.filterwarnings('ignore')"
   ]
  },
  {
   "cell_type": "markdown",
   "metadata": {},
   "source": [
    "### Scrapping Title Names and ids"
   ]
  },
  {
   "cell_type": "markdown",
   "metadata": {},
   "source": [
    "### Collecting the latest movie names\n",
    "    Getting the list of movies and their title name used in IMDB website. So that we can collect the reviews of the movies."
   ]
  },
  {
   "cell_type": "code",
   "execution_count": 2,
   "metadata": {},
   "outputs": [],
   "source": [
    "def get_movies(movie_soup):\n",
    "    name_container = movie_soup.find_all('tbody',class_ = 'lister-list')\n",
    "    movie_names = name_container[0].children\n",
    "    movies_list1 = []\n",
    "    titles_name1 = []\n",
    "    for name in movie_names:\n",
    "        try:\n",
    "            find_name = name.find('td',class_='titleColumn')\n",
    "            movie_name = find_name.a.text\n",
    "            n1 = find_name.a.attrs\n",
    "            movies_list1.append(movie_name)\n",
    "            titles_name1.append(n1['href'])\n",
    "        except:\n",
    "            pass\n",
    "    return movies_list1,titles_name1"
   ]
  },
  {
   "cell_type": "markdown",
   "metadata": {},
   "source": [
    "    Here we are collecting the names of the top and low rated movies with their titles mentioned under the imdb website.   "
   ]
  },
  {
   "cell_type": "code",
   "execution_count": 3,
   "metadata": {},
   "outputs": [],
   "source": [
    "url_list = ['https://www.imdb.com/chart/moviemeter/?ref_=nv_mv_mpm',\n",
    "           'https://www.imdb.com/chart/bottom?pf_rd_m=A2FGELUUNOQJNL&pf_rd_p=cb6cf75a-1a51-49d1-af63-8202cfc3fb01&pf_rd_r=M57YT72578B4NQ2VP7F8&pf_rd_s=right-4&pf_rd_t=15506&pf_rd_i=boxoffice&ref_=chtbo_ql_7']\n",
    "#div_name = ['lister-list', 'lister']\n",
    "movies_list = []\n",
    "titles_name = []\n",
    "for url in url_list:\n",
    "    response = get(url)\n",
    "    movie_soup = BeautifulSoup(response.text, 'html.parser')\n",
    "    movie_1,title_1 = get_movies(movie_soup)\n",
    "    movies_list += movie_1\n",
    "    titles_name += title_1"
   ]
  },
  {
   "cell_type": "code",
   "execution_count": 4,
   "metadata": {},
   "outputs": [
    {
     "data": {
      "text/html": [
       "<div>\n",
       "<style scoped>\n",
       "    .dataframe tbody tr th:only-of-type {\n",
       "        vertical-align: middle;\n",
       "    }\n",
       "\n",
       "    .dataframe tbody tr th {\n",
       "        vertical-align: top;\n",
       "    }\n",
       "\n",
       "    .dataframe thead th {\n",
       "        text-align: right;\n",
       "    }\n",
       "</style>\n",
       "<table border=\"1\" class=\"dataframe\">\n",
       "  <thead>\n",
       "    <tr style=\"text-align: right;\">\n",
       "      <th></th>\n",
       "      <th>movie_name</th>\n",
       "      <th>movie_title</th>\n",
       "    </tr>\n",
       "  </thead>\n",
       "  <tbody>\n",
       "    <tr>\n",
       "      <th>0</th>\n",
       "      <td>The Wrong Missy</td>\n",
       "      <td>/title/tt9619798/</td>\n",
       "    </tr>\n",
       "    <tr>\n",
       "      <th>1</th>\n",
       "      <td>Capone</td>\n",
       "      <td>/title/tt6199572/</td>\n",
       "    </tr>\n",
       "    <tr>\n",
       "      <th>2</th>\n",
       "      <td>The King of Staten Island</td>\n",
       "      <td>/title/tt9686708/</td>\n",
       "    </tr>\n",
       "    <tr>\n",
       "      <th>3</th>\n",
       "      <td>Extraction</td>\n",
       "      <td>/title/tt8936646/</td>\n",
       "    </tr>\n",
       "    <tr>\n",
       "      <th>4</th>\n",
       "      <td>Scoob!</td>\n",
       "      <td>/title/tt3152592/</td>\n",
       "    </tr>\n",
       "    <tr>\n",
       "      <th>...</th>\n",
       "      <td>...</td>\n",
       "      <td>...</td>\n",
       "    </tr>\n",
       "    <tr>\n",
       "      <th>195</th>\n",
       "      <td>Beverly Hills Chihuahua</td>\n",
       "      <td>/title/tt1014775/</td>\n",
       "    </tr>\n",
       "    <tr>\n",
       "      <th>196</th>\n",
       "      <td>Exorcist II: The Heretic</td>\n",
       "      <td>/title/tt0076009/</td>\n",
       "    </tr>\n",
       "    <tr>\n",
       "      <th>197</th>\n",
       "      <td>Recep Ivedik 5</td>\n",
       "      <td>/title/tt6439558/</td>\n",
       "    </tr>\n",
       "    <tr>\n",
       "      <th>198</th>\n",
       "      <td>The Cat in the Hat</td>\n",
       "      <td>/title/tt0312528/</td>\n",
       "    </tr>\n",
       "    <tr>\n",
       "      <th>199</th>\n",
       "      <td>Street Fighter</td>\n",
       "      <td>/title/tt0111301/</td>\n",
       "    </tr>\n",
       "  </tbody>\n",
       "</table>\n",
       "<p>200 rows × 2 columns</p>\n",
       "</div>"
      ],
      "text/plain": [
       "                    movie_name        movie_title\n",
       "0              The Wrong Missy  /title/tt9619798/\n",
       "1                       Capone  /title/tt6199572/\n",
       "2    The King of Staten Island  /title/tt9686708/\n",
       "3                   Extraction  /title/tt8936646/\n",
       "4                       Scoob!  /title/tt3152592/\n",
       "..                         ...                ...\n",
       "195    Beverly Hills Chihuahua  /title/tt1014775/\n",
       "196   Exorcist II: The Heretic  /title/tt0076009/\n",
       "197             Recep Ivedik 5  /title/tt6439558/\n",
       "198         The Cat in the Hat  /title/tt0312528/\n",
       "199             Street Fighter  /title/tt0111301/\n",
       "\n",
       "[200 rows x 2 columns]"
      ]
     },
     "execution_count": 4,
     "metadata": {},
     "output_type": "execute_result"
    }
   ],
   "source": [
    "data = {'movie_name':movies_list,'movie_title':titles_name}\n",
    "data_m = pd.DataFrame(data)\n",
    "data_m"
   ]
  },
  {
   "cell_type": "code",
   "execution_count": 5,
   "metadata": {},
   "outputs": [
    {
     "data": {
      "text/plain": [
       "True"
      ]
     },
     "execution_count": 5,
     "metadata": {},
     "output_type": "execute_result"
    }
   ],
   "source": [
    "len(movies_list) ==len(titles_name)"
   ]
  },
  {
   "cell_type": "markdown",
   "metadata": {},
   "source": [
    "    Collecting reviews from the above collected movies"
   ]
  },
  {
   "cell_type": "code",
   "execution_count": 6,
   "metadata": {},
   "outputs": [],
   "source": [
    "def get_reviews(html_soup):\n",
    "    review_container = html_soup.find_all('div', class_ = 'lister-list')\n",
    "    review_list = review_container[0].children\n",
    "    reviews_text = []\n",
    "    ratings = []\n",
    "    #review_list = review_container[0].children\n",
    "    for review in review_list:\n",
    "        try:\n",
    "            rating = review.find('span').text\n",
    "            text = review.find('div', attrs = {'class': 'text show-more__control'}).text\n",
    "            reviews_text.append(text)\n",
    "            ratings.append(rating)\n",
    "        except:\n",
    "            pass\n",
    "    return reviews_text,ratings"
   ]
  },
  {
   "cell_type": "code",
   "execution_count": 7,
   "metadata": {},
   "outputs": [],
   "source": [
    "size_data = data_m.shape[0]\n",
    "collect_reviews = []\n",
    "collect_ratings = []\n",
    "for i in range(size_data):\n",
    "    title_code = data_m['movie_title'].values[i]\n",
    "    url = 'https://www.imdb.com'+title_code+'reviews?ref_=tt_urv'\n",
    "    response = get(url)\n",
    "    html_soup = BeautifulSoup(response.text, 'html.parser')\n",
    "    collect_review_1,collect_rating_1 = get_reviews(html_soup)\n",
    "    collect_reviews += collect_review_1\n",
    "    collect_ratings += collect_rating_1"
   ]
  },
  {
   "cell_type": "markdown",
   "metadata": {},
   "source": [
    "    The reviews collected so far"
   ]
  },
  {
   "cell_type": "code",
   "execution_count": 8,
   "metadata": {},
   "outputs": [
    {
     "data": {
      "text/plain": [
       "4705"
      ]
     },
     "execution_count": 8,
     "metadata": {},
     "output_type": "execute_result"
    }
   ],
   "source": [
    "len(collect_reviews)"
   ]
  },
  {
   "cell_type": "code",
   "execution_count": 26,
   "metadata": {},
   "outputs": [
    {
     "data": {
      "text/html": [
       "<div>\n",
       "<style scoped>\n",
       "    .dataframe tbody tr th:only-of-type {\n",
       "        vertical-align: middle;\n",
       "    }\n",
       "\n",
       "    .dataframe tbody tr th {\n",
       "        vertical-align: top;\n",
       "    }\n",
       "\n",
       "    .dataframe thead th {\n",
       "        text-align: right;\n",
       "    }\n",
       "</style>\n",
       "<table border=\"1\" class=\"dataframe\">\n",
       "  <thead>\n",
       "    <tr style=\"text-align: right;\">\n",
       "      <th></th>\n",
       "      <th>movie_reviews</th>\n",
       "      <th>movie_ratings</th>\n",
       "    </tr>\n",
       "  </thead>\n",
       "  <tbody>\n",
       "    <tr>\n",
       "      <th>0</th>\n",
       "      <td>Not every movie is supossed to be Amarcord, ca...</td>\n",
       "      <td>\\n\\n\\n\\n\\n\\n7/10\\n</td>\n",
       "    </tr>\n",
       "    <tr>\n",
       "      <th>1</th>\n",
       "      <td>So this was never meant to win an Oscar, let's...</td>\n",
       "      <td>\\n\\n\\n\\n\\n\\n8/10\\n</td>\n",
       "    </tr>\n",
       "    <tr>\n",
       "      <th>2</th>\n",
       "      <td>The names David Spade and Rob Schneider were e...</td>\n",
       "      <td>\\n\\n\\n\\n\\n\\n8/10\\n</td>\n",
       "    </tr>\n",
       "    <tr>\n",
       "      <th>3</th>\n",
       "      <td>The Wrong Missy (3 out of 5 stars).The Wrong M...</td>\n",
       "      <td>\\n\\n\\n\\n\\n\\n6/10\\n</td>\n",
       "    </tr>\n",
       "    <tr>\n",
       "      <th>4</th>\n",
       "      <td>David Spade in his trademark role-straight man...</td>\n",
       "      <td>\\n\\n\\n\\n\\n\\n7/10\\n</td>\n",
       "    </tr>\n",
       "    <tr>\n",
       "      <th>...</th>\n",
       "      <td>...</td>\n",
       "      <td>...</td>\n",
       "    </tr>\n",
       "    <tr>\n",
       "      <th>4700</th>\n",
       "      <td>i am pretty sure that no one will read this bu...</td>\n",
       "      <td>\\n\\n\\n\\n\\n\\n2/10\\n</td>\n",
       "    </tr>\n",
       "    <tr>\n",
       "      <th>4701</th>\n",
       "      <td>I first watched this as a young lad when it ca...</td>\n",
       "      <td>\\n\\n\\n\\n\\n\\n8/10\\n</td>\n",
       "    </tr>\n",
       "    <tr>\n",
       "      <th>4702</th>\n",
       "      <td>No! Just no! Hell no! No! An abomination! No! ...</td>\n",
       "      <td>\\n\\n\\n\\n\\n\\n1/10\\n</td>\n",
       "    </tr>\n",
       "    <tr>\n",
       "      <th>4703</th>\n",
       "      <td>I don't see why everyone hates this movie. All...</td>\n",
       "      <td>\\n\\n\\n\\n\\n\\n10/10\\n</td>\n",
       "    </tr>\n",
       "    <tr>\n",
       "      <th>4704</th>\n",
       "      <td>The first time I saw this movie was in a theat...</td>\n",
       "      <td>\\n\\n\\n\\n\\n\\n2/10\\n</td>\n",
       "    </tr>\n",
       "  </tbody>\n",
       "</table>\n",
       "<p>4705 rows × 2 columns</p>\n",
       "</div>"
      ],
      "text/plain": [
       "                                          movie_reviews        movie_ratings\n",
       "0     Not every movie is supossed to be Amarcord, ca...   \\n\\n\\n\\n\\n\\n7/10\\n\n",
       "1     So this was never meant to win an Oscar, let's...   \\n\\n\\n\\n\\n\\n8/10\\n\n",
       "2     The names David Spade and Rob Schneider were e...   \\n\\n\\n\\n\\n\\n8/10\\n\n",
       "3     The Wrong Missy (3 out of 5 stars).The Wrong M...   \\n\\n\\n\\n\\n\\n6/10\\n\n",
       "4     David Spade in his trademark role-straight man...   \\n\\n\\n\\n\\n\\n7/10\\n\n",
       "...                                                 ...                  ...\n",
       "4700  i am pretty sure that no one will read this bu...   \\n\\n\\n\\n\\n\\n2/10\\n\n",
       "4701  I first watched this as a young lad when it ca...   \\n\\n\\n\\n\\n\\n8/10\\n\n",
       "4702  No! Just no! Hell no! No! An abomination! No! ...   \\n\\n\\n\\n\\n\\n1/10\\n\n",
       "4703  I don't see why everyone hates this movie. All...  \\n\\n\\n\\n\\n\\n10/10\\n\n",
       "4704  The first time I saw this movie was in a theat...   \\n\\n\\n\\n\\n\\n2/10\\n\n",
       "\n",
       "[4705 rows x 2 columns]"
      ]
     },
     "execution_count": 26,
     "metadata": {},
     "output_type": "execute_result"
    }
   ],
   "source": [
    "data_movie = pd.DataFrame({'movie_reviews':collect_reviews,'movie_ratings':collect_ratings})\n",
    "data_movie"
   ]
  },
  {
   "cell_type": "code",
   "execution_count": 28,
   "metadata": {},
   "outputs": [
    {
     "data": {
      "text/plain": [
       "0        7\n",
       "1        8\n",
       "2        8\n",
       "3        6\n",
       "4        7\n",
       "        ..\n",
       "4700     2\n",
       "4701     8\n",
       "4702     1\n",
       "4703    10\n",
       "4704     2\n",
       "Name: movie_ratings, Length: 4705, dtype: object"
      ]
     },
     "execution_count": 28,
     "metadata": {},
     "output_type": "execute_result"
    }
   ],
   "source": [
    "data_movie['movie_ratings'] = data_movie['movie_ratings'].apply(lambda x:x.replace('\\n','')[:-3])\n",
    "data_movie['movie_ratings']"
   ]
  },
  {
   "cell_type": "code",
   "execution_count": 29,
   "metadata": {
    "collapsed": true
   },
   "outputs": [
    {
     "data": {
      "text/plain": [
       "array(['7', '8', '6', '9', '2', '3', '10', '4', '1', '5', 'ripleyspu',\n",
       "       'DVD_Connoiss', 'Jane-g', 'random-70', 'southbankcin', 'federov',\n",
       "       'FredGrim', 'James-', 'Chrysanthe', 'george.schm', 'Big Movie ',\n",
       "       'tfrizz', 'ttss-86', 'Michael_Elli', 'fernandez_1', 'matt',\n",
       "       'unbrokenme', 'Vartiai', 'harry_tk_y', 'Special-', 'CinemaCl',\n",
       "       'speedr', 'Dougla', 'sumtim3s', 'CalR', 'alan-chan-158-451',\n",
       "       'calcman', 'flintknapper_', 'Gordon', 'CraZY_mOVIe_MarSH',\n",
       "       'andy_a', 'DylanMcChil', 'jimcisne', 'go', 'payroll-05',\n",
       "       'nicholas_cla', 'scmovie', 'AvinashPata', 'ktul', 'webspinner',\n",
       "       'SpanishRi', 'knighteagle-111-219', 'hurricanema', 'kevin-miller',\n",
       "       'neil-', 'Dash1', 'LloydBa', 'krieg8814', 'raz', 'aera',\n",
       "       'anshuagrawal-23', 'phollyj', 'guybrush', 'Gatorm', 'verbal',\n",
       "       'leopol', 'imdbmovie', 'pau', 'copperc', 'moondogg', 'cjs',\n",
       "       'jbdorsk', 'minionl', 'Rina', 'Scarle', 'Alexander Christie-Mil',\n",
       "       'horrorg', 'Skazii', 'fightse', 'mcs26', 'fed', 'iog-91', 'm-48',\n",
       "       'xsd-06', 'romerocai', 'larsenmar', 'randy_orton_', 'Rag', 'bay',\n",
       "       'DrLen', 'Scudde', 'Sarge', 'pooc', 'BaronBl', 'Billy_Costi',\n",
       "       'hmora', 'Sdrolio', 'MercurioKni', 'Za', 'me', 'austindoug',\n",
       "       'diva', 'harricklo', 'Aliena', 'u_ya', 'claude6', 'dove22',\n",
       "       'PrivateB', 'DanielRobertR', 'one4n', 'Ace', 'Dr. G', 'chicagor',\n",
       "       'rudymo', 'Tunc', 'duelis', 'The_Dead_', 'rancids', 'manofact',\n",
       "       'HarlenPep', 'bob the ', 'MLDi', 'The_Li', 'derric', 'randycoa',\n",
       "       'zabo', 'fudgenuts', 'cath', 'carl_2', 'bordentownfi', 'amesmo',\n",
       "       'Keith', 'rogeliodu', 'alainengl', 'lemon_ma', 'sebpopc',\n",
       "       'jaywolfenst', 'DarthVoorh', 'pumpkinhead_la', 'allex', 'rayra',\n",
       "       'samuel-a-spi', 'UNOh', 'shehza', 'tokyostreetkil', 'nathan-mo',\n",
       "       'ChoneFigg', 'altaf42', 'mritonog', 'danglar_moscovit', 'anborn3',\n",
       "       'Buddy', 'kir', 'Jofs', 'keiich', 'DJRMewzi', 'ladymoonpictu',\n",
       "       'zmatu', 'NextActionH', 'MovieAddict2', 'Robert_du', 'comic',\n",
       "       'Patrick G. Sm', 'dnorri', 'CandidlyCan', 'Wizar', 'DJ Infe',\n",
       "       'Kevin-1', 'drtomm', 'whitemanfromto', 'stu', 'Goat ',\n",
       "       'youngblood', 'Jesse', 'Muff', 'rae', 'jk2', 'xl_l', 'lil_tim_',\n",
       "       'lefteye', 'jonboo', 'aha', 'MUTEw', 'cromwell_', 'qtrneverm',\n",
       "       'Sex B', 'lein', 'CamaroLuvNga', 'DarthVS', 'cul', 'Galax', 'Dud',\n",
       "       'chang', 'xibc', 'KingFarti', 't', 'garriso', 'khannasamee', 'TxM',\n",
       "       'skydrew', 'smirkinpig', 'blushfi', 'Kid A ', 'Lady-of-Ro',\n",
       "       'Polly', 'mellyp', 'funky_little_an', 'PoprocksAndC', 'tom-2',\n",
       "       'hound', 'ilovetommywis', 'tiema', 'PhantomAg', 'ManBehindTheMas',\n",
       "       'P', 'la_coka_nos', 'DesertHedge', 'ladybug37', 'salmaniac-26',\n",
       "       'Dand', 'Hypn', 'DarthB', 'Georgenor', 'cwhip', 'T', 'stevenfree',\n",
       "       'adrian_kn', 'mcfly', 'autumnshow', 'the_silent_', 'reecor-09',\n",
       "       'annale', 'usino', 'Eric-6', 'wastinga', 'Michaelpazzer',\n",
       "       'michaelsibley', 'amaion', 'jimjam2', 'Smooth', 'Rain',\n",
       "       'MovieRepor', 'jrb1', 'pe', 'pixie-oli', 'shark', 'jamison_hult4',\n",
       "       'Sandcat2', 'Dockelek', 'starwarsl', 'jball242', 'krillin',\n",
       "       'heyko', 'Donati', 'Mik', 'sbar', 'Jones', 'alanm', 'Red_Ident',\n",
       "       'TarantinosLoveCh', 'Creaturewiththeatombrai', 'EclecticEn',\n",
       "       'possu', 'Rowa', 'dbdumont', 'majik', 'patta', 'seashe', 'El Guap',\n",
       "       'jjs', 'Mr Par', 'xx_deleted', 'wande', 'vchimpan', 'L',\n",
       "       'tj_direc', 'dead_', 'kathma', 'm_leca', 'Athana', 'dejanjovi',\n",
       "       'cch', 'Doctor_Mabu', 'clark', 'cash76', 'Rips', 'dtm', 'u'],\n",
       "      dtype=object)"
      ]
     },
     "execution_count": 29,
     "metadata": {},
     "output_type": "execute_result"
    }
   ],
   "source": [
    "data_movie['movie_ratings'].unique()"
   ]
  },
  {
   "cell_type": "code",
   "execution_count": 30,
   "metadata": {},
   "outputs": [
    {
     "data": {
      "text/plain": [
       "4380"
      ]
     },
     "execution_count": 30,
     "metadata": {},
     "output_type": "execute_result"
    }
   ],
   "source": [
    "rating_list = ['8', '7', '6','9', '10', '5','2', '4', '3', '1']\n",
    "data_movie[data_movie['movie_ratings'].isin(rating_list)].shape[0]"
   ]
  },
  {
   "cell_type": "markdown",
   "metadata": {},
   "source": [
    "    Some of the reviews doesn't have ratings. So we are throwing that reviews into test_data. After training our data, we can predict this reviews rating"
   ]
  },
  {
   "cell_type": "code",
   "execution_count": 31,
   "metadata": {},
   "outputs": [],
   "source": [
    "train_data = data_movie[data_movie['movie_ratings'].isin(rating_list)] \n",
    "test_data = data_movie[~data_movie['movie_ratings'].isin(rating_list)]"
   ]
  },
  {
   "cell_type": "code",
   "execution_count": 34,
   "metadata": {},
   "outputs": [],
   "source": [
    "train_data['movie_ratings'] = train_data['movie_ratings'].astype(int)"
   ]
  },
  {
   "cell_type": "markdown",
   "metadata": {},
   "source": [
    "    Here I am labeling the data into 2 parts  and 1. Where 1 indicates the rating of the review > 5 and 0 indicates the rating of the review < 0. Considering this reviews as positive(1) and negative(0)"
   ]
  },
  {
   "cell_type": "code",
   "execution_count": 36,
   "metadata": {},
   "outputs": [
    {
     "data": {
      "text/plain": [
       "0       1\n",
       "1       1\n",
       "2       1\n",
       "3       1\n",
       "4       1\n",
       "       ..\n",
       "4700    0\n",
       "4701    1\n",
       "4702    0\n",
       "4703    1\n",
       "4704    0\n",
       "Name: label, Length: 4380, dtype: int64"
      ]
     },
     "execution_count": 36,
     "metadata": {},
     "output_type": "execute_result"
    }
   ],
   "source": [
    "train_data['label'] = train_data['movie_ratings'].apply(lambda x: 1 if(x>5) else 0)\n",
    "train_data['label']"
   ]
  },
  {
   "cell_type": "code",
   "execution_count": 37,
   "metadata": {},
   "outputs": [
    {
     "data": {
      "text/plain": [
       "0    2286\n",
       "1    2094\n",
       "Name: label, dtype: int64"
      ]
     },
     "execution_count": 37,
     "metadata": {},
     "output_type": "execute_result"
    }
   ],
   "source": [
    "train_data['label'].value_counts()"
   ]
  },
  {
   "cell_type": "code",
   "execution_count": 76,
   "metadata": {},
   "outputs": [],
   "source": [
    "X = train_data['movie_reviews'].values\n",
    "y = train_data['label'].values"
   ]
  },
  {
   "cell_type": "code",
   "execution_count": 77,
   "metadata": {},
   "outputs": [],
   "source": [
    "from sklearn.model_selection import train_test_split\n",
    "X_train,X_valid,y_train,y_valid = train_test_split(X,y, test_size = 0.25, random_state = 3)"
   ]
  },
  {
   "cell_type": "code",
   "execution_count": 78,
   "metadata": {},
   "outputs": [
    {
     "data": {
      "text/plain": [
       "\"I had never heard of Chun Li until I first saw the announcement that Kristin Kreuk would get the lead. What I eventually learned about The Street Fighter, I liked. A female lead in an action role which could compare somewhat to Batman sounded enticing. I guess another comparison that crossed my mind was Lara Croft.Kristin Kreuk won a great part when she got the role of Chun Li. Being a fair-weather fan of Smallville, I had long hoped she would find a fitting character in the movies. Her time has come. I like her ability to show intensity and weakness. Emotion is her best partner in acting.As far as the movie itself goes, I felt somewhat cheated. I was intrigued by the introduction which was narrated nicely by Kristin. Some of the narration that continued was OK, but it soon became an awkward and overbearing distraction. The director obviously did not recognize that crossing the line by over-narration in an action movie could be a definite drawback. He also did not seem to know that, while this is a movie about a fictitious crime/street fighter, you don't have to litter this kind of movie with weak and poorly played characters like Charlie Nash and Detective Maya Sunee. They both seemed to be square pegs being forced into round holes. Chris Klein overplayed his part as though he thought playing an immature detective meant acting like a 12 year old one moment and 17 otherwise. I am sure the 12 and 17 year-olds who played this game were just as disappointed as I was with his portrayal. Meanwhile, Moon Bloodgood seemed to be just as unsure what she was doing with her character. If there is a sequel, these two characters will have to be re-hashed - hopefully by two different actors. And at this point, I have to say, a new director should be considered as well. Andrzej Bartkowiak seemed too loosely connected to the true potential of this movie. Forget about accentuating bumbling law enforcement, focus more on action, mystery and oriental intrigue. Comic relief is good but outright stupidity is unforgivable.I found the fight scenes fun to watch and special effects were enjoyable although minimal. The story was good ; better than the story tellers.Michael Clarke Duncan and Neal McDonough both were great. The deadly threat they both portrayed helped to keep the story together by giving the good guys more evil to fight off than they seemed to be able to handle. And Robin Shou was a great trainer and partner for Kistin Kreuk. If Kristin and Robin come back for a sequel, then the sequel stands a chance of being better than the original, even though, I still give Street Fighter: The Legend of Chun-Li a 7/10\""
      ]
     },
     "execution_count": 78,
     "metadata": {},
     "output_type": "execute_result"
    }
   ],
   "source": [
    "X_train[5]"
   ]
  },
  {
   "cell_type": "code",
   "execution_count": 79,
   "metadata": {},
   "outputs": [
    {
     "name": "stderr",
     "output_type": "stream",
     "text": [
      "[nltk_data] Downloading package stopwords to\n",
      "[nltk_data]     /home/varshan/nltk_data...\n",
      "[nltk_data]   Package stopwords is already up-to-date!\n"
     ]
    }
   ],
   "source": [
    "import nltk\n",
    "nltk.download('stopwords')\n",
    "from nltk.corpus import stopwords"
   ]
  },
  {
   "cell_type": "markdown",
   "metadata": {},
   "source": [
    "### Cleaning the reviews"
   ]
  },
  {
   "cell_type": "code",
   "execution_count": 80,
   "metadata": {},
   "outputs": [],
   "source": [
    "REPLACE_BY_SPACE_RE = re.compile('[/(){}\\[\\]\\|@,;]')\n",
    "BAD_SYMBOLS_RE = re.compile('[^0-9a-z #+_]')\n",
    "STOPWORDS = set(stopwords.words('english'))\n",
    "def text_prepare(text):\n",
    "    text = text.lower() \n",
    "    text = REPLACE_BY_SPACE_RE.sub(' ', text) \n",
    "    text = BAD_SYMBOLS_RE.sub('', text) \n",
    "    text = ' '.join([x for x in text.split() if x and x not in STOPWORDS]) \n",
    "    return text"
   ]
  },
  {
   "cell_type": "code",
   "execution_count": 81,
   "metadata": {},
   "outputs": [],
   "source": [
    "X_train = [text_prepare(x) for x in X_train]\n",
    "X_valid = [text_prepare(x) for x in X_valid]"
   ]
  },
  {
   "cell_type": "code",
   "execution_count": 82,
   "metadata": {},
   "outputs": [
    {
     "data": {
      "text/plain": [
       "'never heard chun li first saw announcement kristin kreuk would get lead eventually learned street fighter liked female lead action role could compare somewhat batman sounded enticing guess another comparison crossed mind lara croftkristin kreuk great part got role chun li fairweather fan smallville long hoped would find fitting character movies time come like ability show intensity weakness emotion best partner actingas far movie goes felt somewhat cheated intrigued introduction narrated nicely kristin narration continued ok soon became awkward overbearing distraction director obviously recognize crossing line overnarration action movie could definite drawback also seem know movie fictitious crime street fighter dont litter kind movie weak poorly played characters like charlie nash detective maya sunee seemed square pegs forced round holes chris klein overplayed part though thought playing immature detective meant acting like 12 year old one moment 17 otherwise sure 12 17 yearolds played game disappointed portrayal meanwhile moon bloodgood seemed unsure character sequel two characters rehashed hopefully two different actors point say new director considered well andrzej bartkowiak seemed loosely connected true potential movie forget accentuating bumbling law enforcement focus action mystery oriental intrigue comic relief good outright stupidity unforgivablei found fight scenes fun watch special effects enjoyable although minimal story good better story tellersmichael clarke duncan neal mcdonough great deadly threat portrayed helped keep story together giving good guys evil fight seemed able handle robin shou great trainer partner kistin kreuk kristin robin come back sequel sequel stands chance better original even though still give street fighter legend chunli 7 10'"
      ]
     },
     "execution_count": 82,
     "metadata": {},
     "output_type": "execute_result"
    }
   ],
   "source": [
    "X_train[5]"
   ]
  },
  {
   "cell_type": "code",
   "execution_count": 83,
   "metadata": {},
   "outputs": [],
   "source": [
    "from collections import Counter\n",
    "words_counts = Counter()\n",
    "\n",
    "for words in X_train:\n",
    "    for word in words.split():\n",
    "        words_counts[word] += 1"
   ]
  },
  {
   "cell_type": "markdown",
   "metadata": {},
   "source": [
    "### The top most used words "
   ]
  },
  {
   "cell_type": "code",
   "execution_count": 84,
   "metadata": {},
   "outputs": [
    {
     "data": {
      "text/plain": [
       "[('movie', 8186), ('film', 5060), ('one', 3085)]"
      ]
     },
     "execution_count": 84,
     "metadata": {},
     "output_type": "execute_result"
    }
   ],
   "source": [
    "sorted(words_counts.items(), key=lambda x: x[1], reverse=True)[:3]"
   ]
  },
  {
   "cell_type": "markdown",
   "metadata": {},
   "source": [
    "### TF-IDF"
   ]
  },
  {
   "cell_type": "code",
   "execution_count": 85,
   "metadata": {},
   "outputs": [],
   "source": [
    "from sklearn.feature_extraction.text import TfidfVectorizer\n",
    "tfidf_vectorizer = TfidfVectorizer(min_df=5, max_df=0.9, ngram_range=(1, 2))"
   ]
  },
  {
   "cell_type": "code",
   "execution_count": 86,
   "metadata": {},
   "outputs": [],
   "source": [
    "X_train = tfidf_vectorizer.fit_transform(X_train)"
   ]
  },
  {
   "cell_type": "code",
   "execution_count": 87,
   "metadata": {},
   "outputs": [],
   "source": [
    "X_valid = tfidf_vectorizer.transform(X_valid)"
   ]
  },
  {
   "cell_type": "code",
   "execution_count": 88,
   "metadata": {},
   "outputs": [],
   "source": [
    "from sklearn.linear_model import LogisticRegression\n",
    "lr = LogisticRegression(penalty='l2', C = 2, solver = 'liblinear')"
   ]
  },
  {
   "cell_type": "code",
   "execution_count": 89,
   "metadata": {},
   "outputs": [
    {
     "data": {
      "text/plain": [
       "LogisticRegression(C=2, class_weight=None, dual=False, fit_intercept=True,\n",
       "          intercept_scaling=1, max_iter=100, multi_class='warn',\n",
       "          n_jobs=None, penalty='l2', random_state=None, solver='liblinear',\n",
       "          tol=0.0001, verbose=0, warm_start=False)"
      ]
     },
     "execution_count": 89,
     "metadata": {},
     "output_type": "execute_result"
    }
   ],
   "source": [
    "lr.fit(X_train,y_train)"
   ]
  },
  {
   "cell_type": "code",
   "execution_count": 90,
   "metadata": {},
   "outputs": [],
   "source": [
    "y_pred = lr.predict(X_valid)"
   ]
  },
  {
   "cell_type": "code",
   "execution_count": 91,
   "metadata": {},
   "outputs": [
    {
     "data": {
      "text/plain": [
       "0.8611872146118722"
      ]
     },
     "execution_count": 91,
     "metadata": {},
     "output_type": "execute_result"
    }
   ],
   "source": [
    "from sklearn.metrics import accuracy_score\n",
    "accuracy_score(y_valid,y_pred)"
   ]
  },
  {
   "cell_type": "code",
   "execution_count": 92,
   "metadata": {},
   "outputs": [
    {
     "data": {
      "text/plain": [
       "array([[500,  72],\n",
       "       [ 80, 443]])"
      ]
     },
     "execution_count": 92,
     "metadata": {},
     "output_type": "execute_result"
    }
   ],
   "source": [
    "from sklearn.metrics import confusion_matrix\n",
    "confusion_matrix(y_valid,y_pred)"
   ]
  },
  {
   "cell_type": "markdown",
   "metadata": {},
   "source": [
    "### Working on the test data"
   ]
  },
  {
   "cell_type": "code",
   "execution_count": 99,
   "metadata": {},
   "outputs": [],
   "source": [
    "X_test = test_data['movie_reviews'].values\n",
    "X_test = [text_prepare(text) for text in X_test]"
   ]
  },
  {
   "cell_type": "code",
   "execution_count": 100,
   "metadata": {},
   "outputs": [],
   "source": [
    "X_test = tfidf_vectorizer.transform(X_test)"
   ]
  },
  {
   "cell_type": "code",
   "execution_count": 101,
   "metadata": {},
   "outputs": [],
   "source": [
    "test_p = lr.predict(X_test)"
   ]
  },
  {
   "cell_type": "code",
   "execution_count": 102,
   "metadata": {},
   "outputs": [],
   "source": [
    "test_data['ratings'] = test_p"
   ]
  },
  {
   "cell_type": "code",
   "execution_count": 103,
   "metadata": {},
   "outputs": [
    {
     "data": {
      "text/html": [
       "<div>\n",
       "<style scoped>\n",
       "    .dataframe tbody tr th:only-of-type {\n",
       "        vertical-align: middle;\n",
       "    }\n",
       "\n",
       "    .dataframe tbody tr th {\n",
       "        vertical-align: top;\n",
       "    }\n",
       "\n",
       "    .dataframe thead th {\n",
       "        text-align: right;\n",
       "    }\n",
       "</style>\n",
       "<table border=\"1\" class=\"dataframe\">\n",
       "  <thead>\n",
       "    <tr style=\"text-align: right;\">\n",
       "      <th></th>\n",
       "      <th>movie_reviews</th>\n",
       "      <th>movie_ratings</th>\n",
       "      <th>ratings</th>\n",
       "    </tr>\n",
       "  </thead>\n",
       "  <tbody>\n",
       "    <tr>\n",
       "      <th>30</th>\n",
       "      <td>I admired the film more than I enjoyed it, but...</td>\n",
       "      <td>ripleyspu</td>\n",
       "      <td>1</td>\n",
       "    </tr>\n",
       "    <tr>\n",
       "      <th>53</th>\n",
       "      <td>\"Extraction\" is fast, vicious and simple. With...</td>\n",
       "      <td>DVD_Connoiss</td>\n",
       "      <td>1</td>\n",
       "    </tr>\n",
       "    <tr>\n",
       "      <th>119</th>\n",
       "      <td>Whoa... hold on guys... 53???Who rate this tur...</td>\n",
       "      <td>Jane-g</td>\n",
       "      <td>0</td>\n",
       "    </tr>\n",
       "    <tr>\n",
       "      <th>151</th>\n",
       "      <td>Seriously I am not politically correct woke or...</td>\n",
       "      <td>random-70</td>\n",
       "      <td>0</td>\n",
       "    </tr>\n",
       "    <tr>\n",
       "      <th>189</th>\n",
       "      <td>Parasite (Gisaengchung), the 2019 film by Bong...</td>\n",
       "      <td>southbankcin</td>\n",
       "      <td>1</td>\n",
       "    </tr>\n",
       "    <tr>\n",
       "      <th>...</th>\n",
       "      <td>...</td>\n",
       "      <td>...</td>\n",
       "      <td>...</td>\n",
       "    </tr>\n",
       "    <tr>\n",
       "      <th>4659</th>\n",
       "      <td>This movie isn't entertaining. It's that simpl...</td>\n",
       "      <td>cash76</td>\n",
       "      <td>0</td>\n",
       "    </tr>\n",
       "    <tr>\n",
       "      <th>4661</th>\n",
       "      <td>For any forty-something pseudo-Boomer like mys...</td>\n",
       "      <td>Rips</td>\n",
       "      <td>0</td>\n",
       "    </tr>\n",
       "    <tr>\n",
       "      <th>4681</th>\n",
       "      <td>Some people claim this is a bad movie... true....</td>\n",
       "      <td>dtm</td>\n",
       "      <td>0</td>\n",
       "    </tr>\n",
       "    <tr>\n",
       "      <th>4693</th>\n",
       "      <td>It's really dangerous to make a movie out of a...</td>\n",
       "      <td>Wizar</td>\n",
       "      <td>0</td>\n",
       "    </tr>\n",
       "    <tr>\n",
       "      <th>4698</th>\n",
       "      <td>\"There can be only one\".....film that is, whic...</td>\n",
       "      <td>u</td>\n",
       "      <td>0</td>\n",
       "    </tr>\n",
       "  </tbody>\n",
       "</table>\n",
       "<p>325 rows × 3 columns</p>\n",
       "</div>"
      ],
      "text/plain": [
       "                                          movie_reviews movie_ratings  ratings\n",
       "30    I admired the film more than I enjoyed it, but...     ripleyspu        1\n",
       "53    \"Extraction\" is fast, vicious and simple. With...  DVD_Connoiss        1\n",
       "119   Whoa... hold on guys... 53???Who rate this tur...        Jane-g        0\n",
       "151   Seriously I am not politically correct woke or...     random-70        0\n",
       "189   Parasite (Gisaengchung), the 2019 film by Bong...  southbankcin        1\n",
       "...                                                 ...           ...      ...\n",
       "4659  This movie isn't entertaining. It's that simpl...        cash76        0\n",
       "4661  For any forty-something pseudo-Boomer like mys...          Rips        0\n",
       "4681  Some people claim this is a bad movie... true....           dtm        0\n",
       "4693  It's really dangerous to make a movie out of a...         Wizar        0\n",
       "4698  \"There can be only one\".....film that is, whic...             u        0\n",
       "\n",
       "[325 rows x 3 columns]"
      ]
     },
     "execution_count": 103,
     "metadata": {},
     "output_type": "execute_result"
    }
   ],
   "source": [
    "test_data"
   ]
  },
  {
   "cell_type": "markdown",
   "metadata": {},
   "source": [
    "### Checking on the test data"
   ]
  },
  {
   "cell_type": "markdown",
   "metadata": {},
   "source": [
    "#### Checking random review which is classified as positive. And the text is positive"
   ]
  },
  {
   "cell_type": "code",
   "execution_count": 105,
   "metadata": {},
   "outputs": [
    {
     "data": {
      "text/plain": [
       "'I admired the film more than I enjoyed it, but it kept my interest throughout despite being a bit of slog at times. It\\'s fascinating. The title \\'Capone\\' invokes the expectation that this was a biopic of the famous gangster, but this isn\\'t that at all. This is something very different, and very deliberately so, but due to the title it\\'s going to confuse and disappoint most people (which is why Trank hated that he had to change it from the original title \\'Fonzo\\' for marketing reasons). There\\'s hardly a reference for this kind of film; it\\'s not a traditional narrative in any sense.What I keep thinking about is how even most gangster films who pretend to de-glamorize criminals and their lifestyle fail; it\\'s the same problem with the \"anti-\" war movie that still depicts a rousing, exciting adventure next to the misery and the atrocities and thus defeats its own purpose. Rare is the war or gangster film that actually achieves to show the underlying emptiness; the ugly, banal, vulgar and sad reality that ultimately is what most lives of violence lead towards until the haunting memories are the only thing that remains.The reason for that is obvious: nobody would watch that kind of film because it would be too bleak. But \\'Capone\\' manages that rare feat: it\\'s bleak - but not bleak enough to turn you off, and it\\'s even often entertaining (in terms of its performances, the fantastic score, the beautiful cinematography). But even though this probably wasn\\'t the film\\'s intention, it still manages to be the ultimate deconstruction of the gangster as an \"icon\" - more so even than Scorsese\\'s \\'Irishman\\' (though it\\'s nowhere near as good a film).I liked Capone; it\\'s weird (and I guess you shouldn\\'t watch it unless you like profoundly weird little arthouse films) but this is definitely not a badly made film. I hope Trank continues on this path and makes more strange, personal films - although perhaps of the kind that are a little more accessible.'"
      ]
     },
     "execution_count": 105,
     "metadata": {},
     "output_type": "execute_result"
    }
   ],
   "source": [
    "test_data[test_data['ratings']==1]['movie_reviews'].values[0]"
   ]
  },
  {
   "cell_type": "markdown",
   "metadata": {},
   "source": [
    "#### Checking random review which is classified as negative. And the text is negative"
   ]
  },
  {
   "cell_type": "code",
   "execution_count": 107,
   "metadata": {},
   "outputs": [
    {
     "data": {
      "text/plain": [
       "'Not sure what this is supposed to be. Its definitely not a horror movie. Its not even that scary, has a few unsettling moments but thats it. Its just weird and doesnt really have any dramatic arc or raising the tension. Basically the whole movie is a few strangers saying WTF? constantly and everyone else telling them \" \\'ts ok ! guys\"\\nAlso besides that, its revolves around a traumatized, annoying and totally without self respect girl that slowly starts benefiting from this weird place. Because of course, we cannot have a film these days without it being a \"personal journey\" of some sorts. Writers trying to be smart and \"deep\".\\nYeah nothing beats a bizzare and crazy rituals to make you sane.If youre expecting horror and monsters or supernatural, keep going. Its just a weird film with no real ending, resolution, interesting character or events. Albeit with nice filmography and quite good actors it has no real dramatic structure or captivating story.'"
      ]
     },
     "execution_count": 107,
     "metadata": {},
     "output_type": "execute_result"
    }
   ],
   "source": [
    "test_data[test_data['ratings']==0]['movie_reviews'].values[3]"
   ]
  },
  {
   "cell_type": "code",
   "execution_count": null,
   "metadata": {},
   "outputs": [],
   "source": []
  }
 ],
 "metadata": {
  "kernelspec": {
   "display_name": "Python 3",
   "language": "python",
   "name": "python3"
  },
  "language_info": {
   "codemirror_mode": {
    "name": "ipython",
    "version": 3
   },
   "file_extension": ".py",
   "mimetype": "text/x-python",
   "name": "python",
   "nbconvert_exporter": "python",
   "pygments_lexer": "ipython3",
   "version": "3.7.3"
  }
 },
 "nbformat": 4,
 "nbformat_minor": 2
}
